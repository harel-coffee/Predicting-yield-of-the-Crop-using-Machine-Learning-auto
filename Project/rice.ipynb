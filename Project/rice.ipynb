{
 "cells": [
  {
   "cell_type": "code",
   "execution_count": 215,
   "metadata": {},
   "outputs": [],
   "source": [
    "import pandas as pd "
   ]
  },
  {
   "cell_type": "code",
   "execution_count": 216,
   "metadata": {},
   "outputs": [],
   "source": [
    "data = pd.read_csv('D:/Data Science/Project/pmf.csv')"
   ]
  },
  {
   "cell_type": "code",
   "execution_count": 217,
   "metadata": {},
   "outputs": [],
   "source": [
    "df = pd.DataFrame(data)"
   ]
  },
  {
   "cell_type": "code",
   "execution_count": 218,
   "metadata": {},
   "outputs": [
    {
     "data": {
      "text/html": [
       "<div>\n",
       "<style scoped>\n",
       "    .dataframe tbody tr th:only-of-type {\n",
       "        vertical-align: middle;\n",
       "    }\n",
       "\n",
       "    .dataframe tbody tr th {\n",
       "        vertical-align: top;\n",
       "    }\n",
       "\n",
       "    .dataframe thead th {\n",
       "        text-align: right;\n",
       "    }\n",
       "</style>\n",
       "<table border=\"1\" class=\"dataframe\">\n",
       "  <thead>\n",
       "    <tr style=\"text-align: right;\">\n",
       "      <th></th>\n",
       "      <th>AREA</th>\n",
       "      <th>RAINFALL</th>\n",
       "      <th>AVG_TEMPERATURE</th>\n",
       "      <th>HUMIDITY</th>\n",
       "      <th>GROUND_WATERLEVEL</th>\n",
       "      <th>PRODUCTION</th>\n",
       "    </tr>\n",
       "  </thead>\n",
       "  <tbody>\n",
       "    <tr>\n",
       "      <th>0</th>\n",
       "      <td>66576</td>\n",
       "      <td>197.10</td>\n",
       "      <td>28.7</td>\n",
       "      <td>72.0</td>\n",
       "      <td>4.025</td>\n",
       "      <td>166048</td>\n",
       "    </tr>\n",
       "    <tr>\n",
       "      <th>1</th>\n",
       "      <td>80520</td>\n",
       "      <td>166.00</td>\n",
       "      <td>26.4</td>\n",
       "      <td>74.3</td>\n",
       "      <td>5.860</td>\n",
       "      <td>103729</td>\n",
       "    </tr>\n",
       "    <tr>\n",
       "      <th>2</th>\n",
       "      <td>46302</td>\n",
       "      <td>137.04</td>\n",
       "      <td>28.0</td>\n",
       "      <td>73.0</td>\n",
       "      <td>5.670</td>\n",
       "      <td>71087</td>\n",
       "    </tr>\n",
       "    <tr>\n",
       "      <th>3</th>\n",
       "      <td>48689</td>\n",
       "      <td>179.24</td>\n",
       "      <td>29.4</td>\n",
       "      <td>71.0</td>\n",
       "      <td>6.100</td>\n",
       "      <td>106829</td>\n",
       "    </tr>\n",
       "    <tr>\n",
       "      <th>4</th>\n",
       "      <td>100110</td>\n",
       "      <td>107.94</td>\n",
       "      <td>27.9</td>\n",
       "      <td>69.6</td>\n",
       "      <td>8.330</td>\n",
       "      <td>124843</td>\n",
       "    </tr>\n",
       "  </tbody>\n",
       "</table>\n",
       "</div>"
      ],
      "text/plain": [
       "     AREA  RAINFALL  AVG_TEMPERATURE  HUMIDITY  GROUND_WATERLEVEL  PRODUCTION\n",
       "0   66576    197.10             28.7      72.0              4.025      166048\n",
       "1   80520    166.00             26.4      74.3              5.860      103729\n",
       "2   46302    137.04             28.0      73.0              5.670       71087\n",
       "3   48689    179.24             29.4      71.0              6.100      106829\n",
       "4  100110    107.94             27.9      69.6              8.330      124843"
      ]
     },
     "execution_count": 218,
     "metadata": {},
     "output_type": "execute_result"
    }
   ],
   "source": [
    "df.head()"
   ]
  },
  {
   "cell_type": "code",
   "execution_count": 219,
   "metadata": {},
   "outputs": [
    {
     "name": "stdout",
     "output_type": "stream",
     "text": [
      "AREA                   int64\n",
      "RAINFALL             float64\n",
      "AVG_TEMPERATURE      float64\n",
      "HUMIDITY             float64\n",
      "GROUND_WATERLEVEL    float64\n",
      "PRODUCTION             int64\n",
      "dtype: object\n"
     ]
    }
   ],
   "source": [
    "print(df.dtypes)"
   ]
  },
  {
   "cell_type": "code",
   "execution_count": 220,
   "metadata": {},
   "outputs": [
    {
     "name": "stdout",
     "output_type": "stream",
     "text": [
      "\n"
     ]
    }
   ],
   "source": [
    "df['AREA'] = df['AREA'].astype(float) \n",
    "df['PRODUCTION'] = df['PRODUCTION'].astype(float) \n",
    "  \n",
    "print() "
   ]
  },
  {
   "cell_type": "code",
   "execution_count": 221,
   "metadata": {},
   "outputs": [
    {
     "name": "stdout",
     "output_type": "stream",
     "text": [
      "AREA                 float64\n",
      "RAINFALL             float64\n",
      "AVG_TEMPERATURE      float64\n",
      "HUMIDITY             float64\n",
      "GROUND_WATERLEVEL    float64\n",
      "PRODUCTION           float64\n",
      "dtype: object\n"
     ]
    }
   ],
   "source": [
    "print(df.dtypes) "
   ]
  },
  {
   "cell_type": "code",
   "execution_count": 222,
   "metadata": {},
   "outputs": [
    {
     "data": {
      "text/html": [
       "<div>\n",
       "<style scoped>\n",
       "    .dataframe tbody tr th:only-of-type {\n",
       "        vertical-align: middle;\n",
       "    }\n",
       "\n",
       "    .dataframe tbody tr th {\n",
       "        vertical-align: top;\n",
       "    }\n",
       "\n",
       "    .dataframe thead th {\n",
       "        text-align: right;\n",
       "    }\n",
       "</style>\n",
       "<table border=\"1\" class=\"dataframe\">\n",
       "  <thead>\n",
       "    <tr style=\"text-align: right;\">\n",
       "      <th></th>\n",
       "      <th>AREA</th>\n",
       "      <th>RAINFALL</th>\n",
       "      <th>AVG_TEMPERATURE</th>\n",
       "      <th>HUMIDITY</th>\n",
       "      <th>GROUND_WATERLEVEL</th>\n",
       "      <th>PRODUCTION</th>\n",
       "    </tr>\n",
       "  </thead>\n",
       "  <tbody>\n",
       "    <tr>\n",
       "      <th>0</th>\n",
       "      <td>66576.0</td>\n",
       "      <td>197.10</td>\n",
       "      <td>28.7</td>\n",
       "      <td>72.0</td>\n",
       "      <td>4.025</td>\n",
       "      <td>166048.0</td>\n",
       "    </tr>\n",
       "    <tr>\n",
       "      <th>1</th>\n",
       "      <td>80520.0</td>\n",
       "      <td>166.00</td>\n",
       "      <td>26.4</td>\n",
       "      <td>74.3</td>\n",
       "      <td>5.860</td>\n",
       "      <td>103729.0</td>\n",
       "    </tr>\n",
       "    <tr>\n",
       "      <th>2</th>\n",
       "      <td>46302.0</td>\n",
       "      <td>137.04</td>\n",
       "      <td>28.0</td>\n",
       "      <td>73.0</td>\n",
       "      <td>5.670</td>\n",
       "      <td>71087.0</td>\n",
       "    </tr>\n",
       "    <tr>\n",
       "      <th>3</th>\n",
       "      <td>48689.0</td>\n",
       "      <td>179.24</td>\n",
       "      <td>29.4</td>\n",
       "      <td>71.0</td>\n",
       "      <td>6.100</td>\n",
       "      <td>106829.0</td>\n",
       "    </tr>\n",
       "    <tr>\n",
       "      <th>4</th>\n",
       "      <td>100110.0</td>\n",
       "      <td>107.94</td>\n",
       "      <td>27.9</td>\n",
       "      <td>69.6</td>\n",
       "      <td>8.330</td>\n",
       "      <td>124843.0</td>\n",
       "    </tr>\n",
       "    <tr>\n",
       "      <th>...</th>\n",
       "      <td>...</td>\n",
       "      <td>...</td>\n",
       "      <td>...</td>\n",
       "      <td>...</td>\n",
       "      <td>...</td>\n",
       "      <td>...</td>\n",
       "    </tr>\n",
       "    <tr>\n",
       "      <th>279</th>\n",
       "      <td>1230.0</td>\n",
       "      <td>25.65</td>\n",
       "      <td>24.7</td>\n",
       "      <td>63.8</td>\n",
       "      <td>3.482</td>\n",
       "      <td>790.0</td>\n",
       "    </tr>\n",
       "    <tr>\n",
       "      <th>280</th>\n",
       "      <td>101.0</td>\n",
       "      <td>253.02</td>\n",
       "      <td>27.8</td>\n",
       "      <td>73.4</td>\n",
       "      <td>1.876</td>\n",
       "      <td>83.0</td>\n",
       "    </tr>\n",
       "    <tr>\n",
       "      <th>281</th>\n",
       "      <td>4468.0</td>\n",
       "      <td>16.10</td>\n",
       "      <td>24.2</td>\n",
       "      <td>63.2</td>\n",
       "      <td>2.632</td>\n",
       "      <td>4379.0</td>\n",
       "    </tr>\n",
       "    <tr>\n",
       "      <th>282</th>\n",
       "      <td>68.0</td>\n",
       "      <td>117.98</td>\n",
       "      <td>29.2</td>\n",
       "      <td>65.8</td>\n",
       "      <td>5.064</td>\n",
       "      <td>45.0</td>\n",
       "    </tr>\n",
       "    <tr>\n",
       "      <th>283</th>\n",
       "      <td>2315.0</td>\n",
       "      <td>14.40</td>\n",
       "      <td>24.8</td>\n",
       "      <td>68.2</td>\n",
       "      <td>5.064</td>\n",
       "      <td>940.0</td>\n",
       "    </tr>\n",
       "  </tbody>\n",
       "</table>\n",
       "<p>284 rows × 6 columns</p>\n",
       "</div>"
      ],
      "text/plain": [
       "         AREA  RAINFALL  AVG_TEMPERATURE  HUMIDITY  GROUND_WATERLEVEL  \\\n",
       "0     66576.0    197.10             28.7      72.0              4.025   \n",
       "1     80520.0    166.00             26.4      74.3              5.860   \n",
       "2     46302.0    137.04             28.0      73.0              5.670   \n",
       "3     48689.0    179.24             29.4      71.0              6.100   \n",
       "4    100110.0    107.94             27.9      69.6              8.330   \n",
       "..        ...       ...              ...       ...                ...   \n",
       "279    1230.0     25.65             24.7      63.8              3.482   \n",
       "280     101.0    253.02             27.8      73.4              1.876   \n",
       "281    4468.0     16.10             24.2      63.2              2.632   \n",
       "282      68.0    117.98             29.2      65.8              5.064   \n",
       "283    2315.0     14.40             24.8      68.2              5.064   \n",
       "\n",
       "     PRODUCTION  \n",
       "0      166048.0  \n",
       "1      103729.0  \n",
       "2       71087.0  \n",
       "3      106829.0  \n",
       "4      124843.0  \n",
       "..          ...  \n",
       "279       790.0  \n",
       "280        83.0  \n",
       "281      4379.0  \n",
       "282        45.0  \n",
       "283       940.0  \n",
       "\n",
       "[284 rows x 6 columns]"
      ]
     },
     "execution_count": 222,
     "metadata": {},
     "output_type": "execute_result"
    }
   ],
   "source": [
    "df"
   ]
  },
  {
   "cell_type": "code",
   "execution_count": 223,
   "metadata": {},
   "outputs": [],
   "source": [
    "X = df.values"
   ]
  },
  {
   "cell_type": "code",
   "execution_count": 224,
   "metadata": {},
   "outputs": [
    {
     "name": "stdout",
     "output_type": "stream",
     "text": [
      "(284, 6)\n",
      "[[6.65760e+04 1.97100e+02 2.87000e+01 7.20000e+01 4.02500e+00 1.66048e+05]\n",
      " [8.05200e+04 1.66000e+02 2.64000e+01 7.43000e+01 5.86000e+00 1.03729e+05]\n",
      " [4.63020e+04 1.37040e+02 2.80000e+01 7.30000e+01 5.67000e+00 7.10870e+04]\n",
      " ...\n",
      " [4.46800e+03 1.61000e+01 2.42000e+01 6.32000e+01 2.63200e+00 4.37900e+03]\n",
      " [6.80000e+01 1.17980e+02 2.92000e+01 6.58000e+01 5.06400e+00 4.50000e+01]\n",
      " [2.31500e+03 1.44000e+01 2.48000e+01 6.82000e+01 5.06400e+00 9.40000e+02]]\n"
     ]
    }
   ],
   "source": [
    "print(X.shape)\n",
    "print(X)\n"
   ]
  },
  {
   "cell_type": "code",
   "execution_count": 225,
   "metadata": {},
   "outputs": [
    {
     "name": "stdout",
     "output_type": "stream",
     "text": [
      "<class 'numpy.ndarray'>\n"
     ]
    }
   ],
   "source": [
    "print(type(X))\n"
   ]
  },
  {
   "cell_type": "code",
   "execution_count": 226,
   "metadata": {},
   "outputs": [],
   "source": [
    "y = X[:15,-1]\n",
    "X = X[:15,:5]"
   ]
  },
  {
   "cell_type": "code",
   "execution_count": 227,
   "metadata": {},
   "outputs": [
    {
     "name": "stdout",
     "output_type": "stream",
     "text": [
      "(15, 5)\n",
      "(15,)\n",
      "[[6.65760e+04 1.97100e+02 2.87000e+01 7.20000e+01 4.02500e+00]\n",
      " [8.05200e+04 1.66000e+02 2.64000e+01 7.43000e+01 5.86000e+00]\n",
      " [4.63020e+04 1.37040e+02 2.80000e+01 7.30000e+01 5.67000e+00]\n",
      " [4.86890e+04 1.79240e+02 2.94000e+01 7.10000e+01 6.10000e+00]\n",
      " [1.00110e+05 1.07940e+02 2.79000e+01 6.96000e+01 8.33000e+00]\n",
      " [1.17500e+05 2.04940e+02 2.63000e+01 7.25000e+01 8.86000e+00]\n",
      " [1.17151e+05 1.78160e+02 2.71000e+01 7.40000e+01 5.13000e+00]\n",
      " [1.37000e+05 1.64180e+02 2.63000e+01 7.12000e+01 2.45000e+00]\n",
      " [1.80127e+05 1.75800e+02 2.60000e+01 7.10000e+01 2.41800e+00]\n",
      " [1.99553e+05 1.23140e+02 2.50000e+01 7.20000e+01 3.39000e+00]\n",
      " [2.35396e+05 2.35820e+02 2.88000e+01 7.40000e+01 2.58000e+00]\n",
      " [2.35245e+05 1.39840e+02 2.84000e+01 7.70000e+01 2.84000e+00]\n",
      " [1.43581e+05 1.88120e+02 2.80000e+01 7.24000e+01 2.96800e+00]\n",
      " [2.31378e+05 2.53020e+02 2.78000e+01 7.34000e+01 1.87600e+00]\n",
      " [2.14586e+05 1.17980e+02 2.92000e+01 6.58000e+01 3.04200e+00]]\n",
      "[166048. 103729.  71087. 106829. 124843. 269559. 223276. 452000. 425947.\n",
      " 461320. 502640. 293364. 318254. 669212. 585694.]\n"
     ]
    }
   ],
   "source": [
    "print(X.shape)\n",
    "print(y.shape)\n",
    "print(X)\n",
    "print(y)\n",
    " "
   ]
  },
  {
   "cell_type": "code",
   "execution_count": 228,
   "metadata": {},
   "outputs": [],
   "source": [
    "import numpy as np\n",
    "u = np.mean(X,axis=0)\n",
    "std = np.std(X,axis=0)"
   ]
  },
  {
   "cell_type": "code",
   "execution_count": 229,
   "metadata": {},
   "outputs": [
    {
     "name": "stdout",
     "output_type": "stream",
     "text": [
      "[6.62000692e+04 4.03902731e+01 1.26220266e+00 2.41960511e+00\n",
      " 2.11963275e+00]\n",
      "[1.43580933e+05 1.71221333e+02 2.75533333e+01 7.22133333e+01\n",
      " 4.36926667e+00]\n",
      "[[-1.16321530e+00  6.40715318e-01  9.08464784e-01 -8.81686571e-02\n",
      "  -1.62418073e-01]\n",
      " [-9.52581079e-01 -1.29272048e-01 -9.13746556e-01  8.62399678e-01\n",
      "   7.03297934e-01]\n",
      " [-1.46946876e+00 -8.46276362e-01  3.53878724e-01  3.25121923e-01\n",
      "   6.13659764e-01]\n",
      " [-1.43341139e+00  1.98529647e-01  1.46305084e+00 -5.01459237e-01\n",
      "   8.16525095e-01]\n",
      " [-6.56659938e-01 -1.56674686e+00  2.74652144e-01 -1.08006605e+00\n",
      "   1.86859414e+00]\n",
      " [-3.93971391e-01  8.34821458e-01 -9.92973136e-01  1.18476633e-01\n",
      "   2.11863745e+00]\n",
      " [-3.99243289e-01  1.71790536e-01 -3.59160496e-01  7.38412503e-01\n",
      "   3.58898650e-01]\n",
      " [-9.94097652e-02 -1.74332402e-01 -9.92973136e-01 -4.18801121e-01\n",
      "  -9.05471321e-01]\n",
      " [ 5.52054811e-01  1.13360627e-01 -1.23065288e+00 -5.01459237e-01\n",
      "  -9.20568276e-01]\n",
      " [ 8.45498613e-01 -1.19041863e+00 -2.02291868e+00 -8.81686571e-02\n",
      "  -4.61998271e-01]\n",
      " [ 1.38693309e+00  1.59936197e+00  9.87691364e-01  7.38412503e-01\n",
      "  -8.44139942e-01]\n",
      " [ 1.38465213e+00 -7.76952740e-01  6.70785044e-01  1.97828424e+00\n",
      "  -7.21477184e-01]\n",
      " [ 1.00704829e-06  4.18384561e-01  3.53878724e-01  7.71475750e-02\n",
      "  -6.61089364e-01]\n",
      " [ 1.32623829e+00  2.02520707e+00  1.95425564e-01  4.90438155e-01\n",
      "  -1.17627295e+00]\n",
      " [ 1.07258297e+00 -1.31817216e+00  1.30459768e+00 -2.65057025e+00\n",
      "  -6.26177656e-01]]\n"
     ]
    }
   ],
   "source": [
    "#std = np.std(y,axis=0)\n",
    "print(std)\n",
    "print(u)\n",
    "X = (X-u)/std\n",
    "print(X)"
   ]
  },
  {
   "cell_type": "code",
   "execution_count": 230,
   "metadata": {},
   "outputs": [
    {
     "data": {
      "text/html": [
       "<div>\n",
       "<style scoped>\n",
       "    .dataframe tbody tr th:only-of-type {\n",
       "        vertical-align: middle;\n",
       "    }\n",
       "\n",
       "    .dataframe tbody tr th {\n",
       "        vertical-align: top;\n",
       "    }\n",
       "\n",
       "    .dataframe thead th {\n",
       "        text-align: right;\n",
       "    }\n",
       "</style>\n",
       "<table border=\"1\" class=\"dataframe\">\n",
       "  <thead>\n",
       "    <tr style=\"text-align: right;\">\n",
       "      <th></th>\n",
       "      <th>0</th>\n",
       "      <th>1</th>\n",
       "      <th>2</th>\n",
       "      <th>3</th>\n",
       "      <th>4</th>\n",
       "    </tr>\n",
       "  </thead>\n",
       "  <tbody>\n",
       "    <tr>\n",
       "      <th>0</th>\n",
       "      <td>-1.163215</td>\n",
       "      <td>0.640715</td>\n",
       "      <td>0.908465</td>\n",
       "      <td>-0.088169</td>\n",
       "      <td>-0.162418</td>\n",
       "    </tr>\n",
       "    <tr>\n",
       "      <th>1</th>\n",
       "      <td>-0.952581</td>\n",
       "      <td>-0.129272</td>\n",
       "      <td>-0.913747</td>\n",
       "      <td>0.862400</td>\n",
       "      <td>0.703298</td>\n",
       "    </tr>\n",
       "    <tr>\n",
       "      <th>2</th>\n",
       "      <td>-1.469469</td>\n",
       "      <td>-0.846276</td>\n",
       "      <td>0.353879</td>\n",
       "      <td>0.325122</td>\n",
       "      <td>0.613660</td>\n",
       "    </tr>\n",
       "    <tr>\n",
       "      <th>3</th>\n",
       "      <td>-1.433411</td>\n",
       "      <td>0.198530</td>\n",
       "      <td>1.463051</td>\n",
       "      <td>-0.501459</td>\n",
       "      <td>0.816525</td>\n",
       "    </tr>\n",
       "    <tr>\n",
       "      <th>4</th>\n",
       "      <td>-0.656660</td>\n",
       "      <td>-1.566747</td>\n",
       "      <td>0.274652</td>\n",
       "      <td>-1.080066</td>\n",
       "      <td>1.868594</td>\n",
       "    </tr>\n",
       "  </tbody>\n",
       "</table>\n",
       "</div>"
      ],
      "text/plain": [
       "          0         1         2         3         4\n",
       "0 -1.163215  0.640715  0.908465 -0.088169 -0.162418\n",
       "1 -0.952581 -0.129272 -0.913747  0.862400  0.703298\n",
       "2 -1.469469 -0.846276  0.353879  0.325122  0.613660\n",
       "3 -1.433411  0.198530  1.463051 -0.501459  0.816525\n",
       "4 -0.656660 -1.566747  0.274652 -1.080066  1.868594"
      ]
     },
     "execution_count": 230,
     "metadata": {},
     "output_type": "execute_result"
    }
   ],
   "source": [
    "# Normalised Data\n",
    "pd.DataFrame(X[:5,:]).head()"
   ]
  },
  {
   "cell_type": "code",
   "execution_count": 231,
   "metadata": {},
   "outputs": [
    {
     "data": {
      "image/png": "[encoded data removed]",
      "text/plain": [
       "<Figure size 576x396 with 1 Axes>"
      ]
     },
     "metadata": {},
     "output_type": "display_data"
    }
   ],
   "source": [
    "# Plot Y vs any feature\n",
    "import matplotlib.pyplot as plt\n",
    "\n",
    "plt.style.use('seaborn')\n",
    "plt.scatter(X[:,4],y)\n",
    "plt.show()"
   ]
  },
  {
   "cell_type": "code",
   "execution_count": 232,
   "metadata": {},
   "outputs": [
    {
     "data": {
      "text/plain": [
       "((15, 5), (15,))"
      ]
     },
     "execution_count": 232,
     "metadata": {},
     "output_type": "execute_result"
    }
   ],
   "source": [
    "X.shape, y.shape"
   ]
  },
  {
   "cell_type": "code",
   "execution_count": 233,
   "metadata": {},
   "outputs": [
    {
     "name": "stdout",
     "output_type": "stream",
     "text": [
      "(15, 6)\n"
     ]
    }
   ],
   "source": [
    "ones = np.ones((X.shape[0],1))\n",
    "X = np.hstack((ones,X))\n",
    "print(X.shape)"
   ]
  },
  {
   "cell_type": "code",
   "execution_count": 234,
   "metadata": {},
   "outputs": [],
   "source": [
    "# X - Matrix ( m x n)\n",
    "# x - Vector (Single Example with n features)\n",
    "\n",
    "def hypothesis(x,theta):\n",
    "    y_ = 0.0\n",
    "    n = x.shape[0]\n",
    "    for i in range(n):\n",
    "        y_  += (theta[i]*x[i])\n",
    "    return y_\n",
    "\n",
    "def error(X,y,theta):\n",
    "    e = 0.0\n",
    "    m = X.shape[0]\n",
    "    \n",
    "    for i in range(m):\n",
    "        y_ = hypothesis(X[i],theta)\n",
    "        e += (y[i] - y_)**2\n",
    "        \n",
    "    return e/m\n",
    "\n",
    "def gradient(X,y,theta):\n",
    "    m,n = X.shape\n",
    "    \n",
    "    grad = np.zeros((n,))\n",
    "    \n",
    "    # for all values of j\n",
    "    for j in range(n):\n",
    "        #sum over all examples\n",
    "        for i in range(m):\n",
    "            y_ = hypothesis(X[i],theta)\n",
    "            grad[j] += (y_ - y[i])*X[i][j]\n",
    "    # Out of the loops\n",
    "    return grad/m\n",
    "\n",
    "def gradient_descent(X,y,learning_rate=0.1,max_epochs=300):\n",
    "    m,n = X.shape\n",
    "    theta = np.zeros((n,))\n",
    "    error_list = []\n",
    "    \n",
    "    for i in range(max_epochs):\n",
    "        e = error(X,y,theta)\n",
    "        error_list.append(e)\n",
    "        \n",
    "        # Gradient Descent\n",
    "        grad = gradient(X,y,theta)\n",
    "        for j in range(n):\n",
    "            theta[j] = theta[j] - learning_rate*grad[j]\n",
    "        \n",
    "    return theta,error_list\n",
    "#print(m)"
   ]
  },
  {
   "cell_type": "code",
   "execution_count": 235,
   "metadata": {},
   "outputs": [
    {
     "name": "stdout",
     "output_type": "stream",
     "text": [
      "Time taken is  0.22040915489196777\n"
     ]
    }
   ],
   "source": [
    "import time\n",
    "start = time.time()\n",
    "theta,error_list = gradient_descent(X,y)\n",
    "end = time.time()\n",
    "print(\"Time taken is \", end-start)"
   ]
  },
  {
   "cell_type": "code",
   "execution_count": 236,
   "metadata": {},
   "outputs": [
    {
     "name": "stdout",
     "output_type": "stream",
     "text": [
      "[318253.46666666 126373.72969872  58632.72692617 -32494.56584523\n",
      " -78956.17352706 -39953.0049717 ]\n"
     ]
    }
   ],
   "source": [
    "print(theta)"
   ]
  },
  {
   "cell_type": "code",
   "execution_count": 237,
   "metadata": {},
   "outputs": [
    {
     "data": {
      "image/png": "[encoded data removed]",
      "text/plain": [
       "<Figure size 576x396 with 1 Axes>"
      ]
     },
     "metadata": {},
     "output_type": "display_data"
    }
   ],
   "source": [
    "plt.plot(error_list)\n",
    "plt.show()"
   ]
  },
  {
   "cell_type": "code",
   "execution_count": 238,
   "metadata": {},
   "outputs": [],
   "source": [
    "y_ = []\n",
    "m = X.shape[0]\n",
    "\n",
    "for i in range(m):\n",
    "    pred = hypothesis(X[i],theta)\n",
    "    y_.append(pred)\n",
    "\n",
    "    \n",
    "y_ = np.array(y_)\n"
   ]
  },
  {
   "cell_type": "code",
   "execution_count": 239,
   "metadata": {},
   "outputs": [],
   "source": [
    "def r2_score(y,y_):\n",
    "    num = np.sum((y-y_)**2)\n",
    "    denom = np.sum((y- y.mean())**2)\n",
    "    score = (1- num/denom)\n",
    "    return score*100"
   ]
  },
  {
   "cell_type": "code",
   "execution_count": 240,
   "metadata": {},
   "outputs": [
    {
     "data": {
      "text/plain": [
       "95.84860331037753"
      ]
     },
     "execution_count": 240,
     "metadata": {},
     "output_type": "execute_result"
    }
   ],
   "source": [
    "# SCORE\n",
    "r2_score(y,y_)"
   ]
  },
  {
   "cell_type": "code",
   "execution_count": 241,
   "metadata": {},
   "outputs": [],
   "source": [
    "def hypothesis(X,theta):\n",
    "    return np.dot(X,theta)\n",
    "\n",
    "def error(X,y,theta):\n",
    "    e = 0.0\n",
    "    y_ = hypothesis(X,theta)\n",
    "    e = np.sum((y-y_)**2)\n",
    "    \n",
    "    return e/m\n",
    "    \n",
    "def gradient(X,y,theta):\n",
    "    \n",
    "    y_ = hypothesis(X,theta)\n",
    "    grad = np.dot(X.T,(y_ - y))\n",
    "    m = X.shape[0]\n",
    "    return grad/m\n",
    "\n",
    "def gradient_descent(X,y,learning_rate = 0.1,max_iters=300):\n",
    "    \n",
    "    n = X.shape[1]\n",
    "    theta = np.zeros((n,))\n",
    "    error_list = []\n",
    "    \n",
    "    for i in range(max_iters):\n",
    "        e = error(X,y,theta)\n",
    "        error_list.append(e)\n",
    "        \n",
    "        #Gradient descent\n",
    "        grad = gradient(X,y,theta)\n",
    "        theta = theta - learning_rate*grad\n",
    "        \n",
    "    return theta,error_list\n",
    "    \n"
   ]
  },
  {
   "cell_type": "code",
   "execution_count": 242,
   "metadata": {},
   "outputs": [
    {
     "name": "stdout",
     "output_type": "stream",
     "text": [
      "Time taken by Vectorized Code 0.007976293563842773\n"
     ]
    }
   ],
   "source": [
    "start = time.time()\n",
    "theta,error_list = gradient_descent(X,y)\n",
    "end = time.time()\n",
    "print(\"Time taken by Vectorized Code\",end-start)"
   ]
  },
  {
   "cell_type": "code",
   "execution_count": 243,
   "metadata": {},
   "outputs": [
    {
     "data": {
      "text/plain": [
       "array([318253.46666666, 126373.72969872,  58632.72692617, -32494.56584523,\n",
       "       -78956.17352706, -39953.0049717 ])"
      ]
     },
     "execution_count": 243,
     "metadata": {},
     "output_type": "execute_result"
    }
   ],
   "source": [
    "theta"
   ]
  },
  {
   "cell_type": "code",
   "execution_count": 244,
   "metadata": {},
   "outputs": [
    {
     "data": {
      "image/png": "[encoded data removed]",
      "text/plain": [
       "<Figure size 576x396 with 1 Axes>"
      ]
     },
     "metadata": {},
     "output_type": "display_data"
    }
   ],
   "source": [
    "plt.plot(error_list)\n",
    "plt.show()"
   ]
  },
  {
   "cell_type": "code",
   "execution_count": 245,
   "metadata": {},
   "outputs": [
    {
     "data": {
      "text/plain": [
       "95.84860331037753"
      ]
     },
     "execution_count": 245,
     "metadata": {},
     "output_type": "execute_result"
    }
   ],
   "source": [
    "## Predictions\n",
    "y_ = hypothesis(X,theta)\n",
    "r2_score(y,y_)\n"
   ]
  }
 ],
 "metadata": {
  "kernelspec": {
   "display_name": "Python 3",
   "language": "python",
   "name": "python3"
  },
  "language_info": {
   "codemirror_mode": {
    "name": "ipython",
    "version": 3
   },
   "file_extension": ".py",
   "mimetype": "text/x-python",
   "name": "python",
   "nbconvert_exporter": "python",
   "pygments_lexer": "ipython3",
   "version": "3.7.7"
  }
 },
 "nbformat": 4,
 "nbformat_minor": 4
}
